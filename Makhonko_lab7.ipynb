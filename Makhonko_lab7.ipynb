{
  "nbformat": 4,
  "nbformat_minor": 0,
  "metadata": {
    "colab": {
      "name": "Makhonko_lab7.ipynb",
      "provenance": [],
      "authorship_tag": "ABX9TyOViaXAB0qR3EEX4mIi6ZKc",
      "include_colab_link": true
    },
    "kernelspec": {
      "name": "python3",
      "display_name": "Python 3"
    },
    "language_info": {
      "name": "python"
    }
  },
  "cells": [
    {
      "cell_type": "markdown",
      "metadata": {
        "id": "view-in-github",
        "colab_type": "text"
      },
      "source": [
        "<a href=\"https://colab.research.google.com/github/Thandriss/telecom_labs/blob/main/Makhonko_lab7.ipynb\" target=\"_parent\"><img src=\"https://colab.research.google.com/assets/colab-badge.svg\" alt=\"Open In Colab\"/></a>"
      ]
    },
    {
      "cell_type": "code",
      "execution_count": 1,
      "metadata": {
        "id": "MBv1poNfn6uM"
      },
      "outputs": [],
      "source": [
        "import numpy as np\n",
        "PI2 = 2 * np.pi"
      ]
    },
    {
      "cell_type": "markdown",
      "source": [
        "## Упражнение 2"
      ],
      "metadata": {
        "id": "AsriiuLmqt2_"
      }
    },
    {
      "cell_type": "markdown",
      "source": [
        "В этом задании нужно реализовать алгоритм Быстрого преобразования Фурье, его время ра-\n",
        "боты пропорционально n log n. Для этого нужно разделить исходный массив на четные элемен-\n",
        "ты e и нечетные элементы o. Затем вычислить ДФТ для e и o. Для этого будем использовать\n",
        "np.fft.fft. В конце нужно вычислить ДПФ от исходного массива для каждого значения n,\n",
        "используя лемму Дэниеолсона-Ланцоша.\n",
        "Начнем с небольшого сигнала и вычислим его БПФ:"
      ],
      "metadata": {
        "id": "GhGxe2kOrs9E"
      }
    },
    {
      "cell_type": "code",
      "source": [
        "ys = [-0.5, 0.1, 0.7, -0.1]\n",
        "hs = np.fft.fft(ys)\n",
        "print(hs)"
      ],
      "metadata": {
        "colab": {
          "base_uri": "https://localhost:8080/"
        },
        "id": "zTdl6WJbq5MC",
        "outputId": "29da8d88-c751-4aeb-fa31-14a0bd0e8c5a"
      },
      "execution_count": 2,
      "outputs": [
        {
          "output_type": "stream",
          "name": "stdout",
          "text": [
            "[ 0.2+0.j  -1.2-0.2j  0.2+0.j  -1.2+0.2j]\n"
          ]
        }
      ]
    },
    {
      "cell_type": "markdown",
      "source": [
        "Дискретное преобразование Фурье из книги:"
      ],
      "metadata": {
        "id": "H-TH8qsErvvw"
      }
    },
    {
      "cell_type": "code",
      "source": [
        "def dft(ys):\n",
        "    N = len(ys)\n",
        "    ts = np.arange(N) / N\n",
        "    freqs = np.arange(N)\n",
        "    args = np.outer(ts, freqs)\n",
        "    M = np.exp(1j * PI2 * args)\n",
        "    amps = M.conj().transpose().dot(ys)\n",
        "    return amps"
      ],
      "metadata": {
        "id": "SjEiRgNuq7fh"
      },
      "execution_count": 3,
      "outputs": []
    },
    {
      "cell_type": "markdown",
      "source": [
        "Его результат:"
      ],
      "metadata": {
        "id": "rgHc9X7or3tQ"
      }
    },
    {
      "cell_type": "code",
      "source": [
        "hs2 = dft(ys)\n",
        "np.sum(np.abs(hs - hs2))"
      ],
      "metadata": {
        "colab": {
          "base_uri": "https://localhost:8080/"
        },
        "id": "0X6MBx-Dq-_V",
        "outputId": "956b6bea-744b-44fd-a9ff-8f508d6dbfae"
      },
      "execution_count": 4,
      "outputs": [
        {
          "output_type": "execute_result",
          "data": {
            "text/plain": [
              "5.864775846765962e-16"
            ]
          },
          "metadata": {},
          "execution_count": 4
        }
      ]
    },
    {
      "cell_type": "markdown",
      "source": [
        "Создадим рекурсивное Быстрое Преобразование Фурье. Для начала будем резать на четные и\n",
        "нечетные элементы входной массив и использовать np.fft.fft для вычисления ДПФ частей."
      ],
      "metadata": {
        "id": "MDWhd_kXr7_o"
      }
    },
    {
      "cell_type": "code",
      "source": [
        "def fft_norec(ys):\n",
        "    N = len(ys)\n",
        "    He = np.fft.fft(ys[::2])\n",
        "    Ho = np.fft.fft(ys[1::2])\n",
        "    \n",
        "    ns = np.arange(N)\n",
        "    W = np.exp(-1j * PI2 * ns / N)\n",
        "    \n",
        "    return np.tile(He, 2) + W * np.tile(Ho, 2)"
      ],
      "metadata": {
        "id": "Df3vqtP7q_ms"
      },
      "execution_count": 5,
      "outputs": []
    },
    {
      "cell_type": "code",
      "source": [
        "hs3 = fft_norec(ys)\n",
        "np.sum(np.abs(hs - hs3))"
      ],
      "metadata": {
        "colab": {
          "base_uri": "https://localhost:8080/"
        },
        "id": "EzyO72kFrCYh",
        "outputId": "031b7252-8db9-4380-d851-38ec87e3cb31"
      },
      "execution_count": 6,
      "outputs": [
        {
          "output_type": "execute_result",
          "data": {
            "text/plain": [
              "0.0"
            ]
          },
          "metadata": {},
          "execution_count": 6
        }
      ]
    },
    {
      "cell_type": "markdown",
      "source": [
        "Теперь переместим np.fft.fft в рекурсию и добавим базовый случай для нее:"
      ],
      "metadata": {
        "id": "5vrdnfSOr9Ta"
      }
    },
    {
      "cell_type": "code",
      "source": [
        "def fft(ys):\n",
        "    N = len(ys)\n",
        "    if N == 1:\n",
        "        return ys\n",
        "    \n",
        "    He = fft(ys[::2])\n",
        "    Ho = fft(ys[1::2])\n",
        "    \n",
        "    ns = np.arange(N)\n",
        "    W = np.exp(-1j * PI2 * ns / N)\n",
        "    \n",
        "    return np.tile(He, 2) + W * np.tile(Ho, 2)"
      ],
      "metadata": {
        "id": "HgseGTV9rEPI"
      },
      "execution_count": 7,
      "outputs": []
    },
    {
      "cell_type": "markdown",
      "source": [
        "Результат:"
      ],
      "metadata": {
        "id": "EA99dR1vsERq"
      }
    },
    {
      "cell_type": "code",
      "source": [
        "hs4 = fft(ys)\n",
        "np.sum(np.abs(hs - hs4))"
      ],
      "metadata": {
        "colab": {
          "base_uri": "https://localhost:8080/"
        },
        "id": "UKfe2bRzrGTg",
        "outputId": "ace1658b-7a5f-48d8-d835-b2c0f14c0bca"
      },
      "execution_count": 8,
      "outputs": [
        {
          "output_type": "execute_result",
          "data": {
            "text/plain": [
              "1.6653345369377348e-16"
            ]
          },
          "metadata": {},
          "execution_count": 8
        }
      ]
    }
  ]
}